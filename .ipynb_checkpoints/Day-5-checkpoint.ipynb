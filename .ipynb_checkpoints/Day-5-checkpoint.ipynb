{
 "cells": [
  {
   "cell_type": "markdown",
   "metadata": {},
   "source": [
    "## Today's concepts:\n",
    "- OOPs\n",
    "- Regular expresions\n",
    "- Files\n",
    "- Matplotlib"
   ]
  },
  {
   "cell_type": "markdown",
   "metadata": {},
   "source": [
    "# object oriented  programing\n",
    "- object: instance of class \n",
    "     - objects are  having properties(var) and actions(methods)\n",
    "- Class: collection of variables and methods\n",
    "     - syntax ---> class classname:\n",
    "- create a object:\n",
    "    - syntax ---> var = classname()"
   ]
  },
  {
   "cell_type": "code",
   "execution_count": 2,
   "metadata": {},
   "outputs": [],
   "source": [
    "class student:\n",
    "    pass"
   ]
  },
  {
   "cell_type": "code",
   "execution_count": 3,
   "metadata": {},
   "outputs": [],
   "source": [
    "s = student()"
   ]
  },
  {
   "cell_type": "code",
   "execution_count": 16,
   "metadata": {
    "scrolled": true
   },
   "outputs": [],
   "source": [
    "class student:            # a and b are static variables\n",
    "    a=10\n",
    "    b=20\n",
    "    def Display(self):\n",
    "        name = input('enter student name:')\n",
    "        print('hello',name)\n",
    "        "
   ]
  },
  {
   "cell_type": "code",
   "execution_count": 21,
   "metadata": {},
   "outputs": [
    {
     "name": "stdout",
     "output_type": "stream",
     "text": [
      "enter student name:mahesh\n",
      "hello mahesh\n"
     ]
    }
   ],
   "source": [
    "student().a\n",
    "student().b\n",
    "s=student()\n",
    "s.a\n",
    "s.b\n",
    "s.Display()"
   ]
  },
  {
   "cell_type": "markdown",
   "metadata": {},
   "source": [
    "# constructor\n",
    "    - syntax --> __init__(self):\n",
    "                     statements"
   ]
  },
  {
   "cell_type": "code",
   "execution_count": 30,
   "metadata": {},
   "outputs": [],
   "source": [
    "class cse:\n",
    "    sections =3\n",
    "    year  = 2\n",
    "    def __init__(self):\n",
    "        print('This is constructor')\n",
    "    def Details(self):\n",
    "        print('cse {} year having {} sections'.format(cse.year,cse.sections))\n"
   ]
  },
  {
   "cell_type": "code",
   "execution_count": 31,
   "metadata": {},
   "outputs": [
    {
     "name": "stdout",
     "output_type": "stream",
     "text": [
      "This is constructor\n",
      "cse 2 year having 3 sections\n"
     ]
    }
   ],
   "source": [
    "c=cse()\n",
    "c.Details()\n"
   ]
  },
  {
   "cell_type": "code",
   "execution_count": 43,
   "metadata": {},
   "outputs": [],
   "source": [
    "class cse:\n",
    "    def __init__(self,sections,year):\n",
    "        print('This is constructor')\n",
    "        self.sections = sections\n",
    "        self.year = year\n",
    "    def Details(self):\n",
    "        print('cse {} year having {} sections'.format(self.year,self.sections))\n"
   ]
  },
  {
   "cell_type": "code",
   "execution_count": 44,
   "metadata": {},
   "outputs": [
    {
     "name": "stdout",
     "output_type": "stream",
     "text": [
      "This is constructor\n",
      "cse 2 year having 3 sections\n"
     ]
    }
   ],
   "source": [
    "c=cse(3,2)\n",
    "c.Details()"
   ]
  },
  {
   "cell_type": "markdown",
   "metadata": {},
   "source": [
    "# Inheritance: \n",
    " - Getting the properties from parent class to child class\n",
    "     - two ways:\n",
    "         - Has - A realtion\n",
    "         - Is - A realtion"
   ]
  },
  {
   "cell_type": "code",
   "execution_count": 47,
   "metadata": {},
   "outputs": [],
   "source": [
    "class Parent:\n",
    "    x=10\n",
    "    y=20\n",
    "    def m1(self):\n",
    "        print('Parent method..')\n",
    "class child:\n",
    "    a=43\n",
    "    def __init__(self):\n",
    "        self.parent=Parent()\n",
    "    def m2(self):\n",
    "        print(self.parent.x)\n",
    "        print(self.parent.y)\n",
    "        print(child().a)\n",
    "        print(self.parent.m1())"
   ]
  },
  {
   "cell_type": "code",
   "execution_count": 49,
   "metadata": {},
   "outputs": [
    {
     "name": "stdout",
     "output_type": "stream",
     "text": [
      "10\n",
      "20\n",
      "43\n",
      "Parent method..\n",
      "None\n"
     ]
    }
   ],
   "source": [
    "c=child()\n",
    "c.m2()"
   ]
  },
  {
   "cell_type": "code",
   "execution_count": 62,
   "metadata": {},
   "outputs": [
    {
     "name": "stdout",
     "output_type": "stream",
     "text": [
      "class A method\n",
      "class B method\n"
     ]
    }
   ],
   "source": [
    "#Is - A relation\n",
    "class A:\n",
    "    x=10\n",
    "    y=20\n",
    "    def m1(self):\n",
    "        print('class A method')\n",
    "class B(A): \n",
    "    z=30\n",
    "    def m2(self):\n",
    "        print('class B method')\n",
    "ob=B()\n",
    "ob.x\n",
    "ob.y\n",
    "ob.z\n",
    "ob.m1()\n",
    "ob.m2()"
   ]
  },
  {
   "cell_type": "code",
   "execution_count": 75,
   "metadata": {},
   "outputs": [
    {
     "data": {
      "text/plain": [
       "49"
      ]
     },
     "execution_count": 75,
     "metadata": {},
     "output_type": "execute_result"
    }
   ],
   "source": [
    "# multi level inheritance:\n",
    "class A:\n",
    "    a=77\n",
    "    b=43\n",
    "    def m1(self):\n",
    "        print('class parent method')\n",
    "class B(A): \n",
    "    c=28\n",
    "    def m2(self):\n",
    "        print('class child method')\n",
    "class c(B):\n",
    "    d=49\n",
    "    def m3(self):\n",
    "        print('class subchild method')\n",
    "ob=c\n",
    "ob.a\n",
    "ob.c\n",
    "ob.d\n",
    "\n"
   ]
  },
  {
   "cell_type": "markdown",
   "metadata": {},
   "source": [
    "# regular expressions\n",
    "+ Regular expressions are using patterns\n",
    "+ by using regular expressions in python we can use one module i.e: import **re**\n",
    "+ Regular expressions Syntax ----> modulename.methodname(pattern,values or variablesnames)"
   ]
  },
  {
   "cell_type": "markdown",
   "metadata": {},
   "source": [
    "## methods\n",
    "+ search\n",
    "+ match\n",
    "+ findall"
   ]
  },
  {
   "cell_type": "markdown",
   "metadata": {},
   "source": [
    "## Pattern\n",
    "- ^ : matches beginning of a line \n",
    "- $ : matches end of a line\n",
    "- .: matches any character\n",
    "- *: repeats a chracter zero to more times\n",
    "- +: repeats a character one or more times\n",
    "- \\d : matches digits\n",
    "- \\D : expcept digits reamaining \n",
    "- \\s : matches white space\n",
    "- \\S : matches any non-white space character\n",
    "- \\w : returns other than special symbols\n",
    "- \\W : returns special symbols\n",
    "- [a-z,A-Z] : the set of characters can include a range\n",
    "- [0-9] : the set of characters can include a range\n",
    "- [a,e,i,o,u]: matches a single character inthe listed set"
   ]
  },
  {
   "cell_type": "code",
   "execution_count": 1,
   "metadata": {},
   "outputs": [],
   "source": [
    "import re"
   ]
  },
  {
   "cell_type": "code",
   "execution_count": 8,
   "metadata": {},
   "outputs": [],
   "source": [
    "re.search('^w','python workshop')"
   ]
  },
  {
   "cell_type": "code",
   "execution_count": 11,
   "metadata": {},
   "outputs": [],
   "source": [
    "re.search('o$','pythonworkshop')"
   ]
  },
  {
   "cell_type": "code",
   "execution_count": 15,
   "metadata": {},
   "outputs": [
    {
     "data": {
      "text/plain": [
       "<re.Match object; span=(0, 10), match='pythonwork'>"
      ]
     },
     "execution_count": 15,
     "metadata": {},
     "output_type": "execute_result"
    }
   ],
   "source": [
    "re.search('..........','pythonworkshop')"
   ]
  },
  {
   "cell_type": "code",
   "execution_count": 18,
   "metadata": {},
   "outputs": [
    {
     "data": {
      "text/plain": [
       "['-', '-', 'p', 'y', 't', 'h', 'o', 'n']"
      ]
     },
     "execution_count": 18,
     "metadata": {},
     "output_type": "execute_result"
    }
   ],
   "source": [
    "re.search('\\d','18-01-2023python')\n",
    "re.findall('\\d','18-01-2023python')\n",
    "re.findall('\\D','18-01-2023python')"
   ]
  },
  {
   "cell_type": "code",
   "execution_count": 21,
   "metadata": {},
   "outputs": [
    {
     "data": {
      "text/plain": [
       "['w',\n",
       " 'e',\n",
       " 'l',\n",
       " 'c',\n",
       " 'o',\n",
       " 'm',\n",
       " 'e',\n",
       " 't',\n",
       " 'o',\n",
       " 'p',\n",
       " 'y',\n",
       " 't',\n",
       " 'h',\n",
       " 'o',\n",
       " 'n',\n",
       " 'w',\n",
       " 'o',\n",
       " 'r',\n",
       " 'k',\n",
       " 's',\n",
       " 'h',\n",
       " 'o',\n",
       " 'p']"
      ]
     },
     "execution_count": 21,
     "metadata": {},
     "output_type": "execute_result"
    }
   ],
   "source": [
    "x='welcome to  python   workshop'\n",
    "re.findall('\\s',x)\n",
    "re.findall('\\S',x)"
   ]
  },
  {
   "cell_type": "code",
   "execution_count": 25,
   "metadata": {},
   "outputs": [
    {
     "data": {
      "text/plain": [
       "['s', 'u', 's', 'h', 'i', '_', 'p', 'g', 'a', 'm', 'i', 'l', 'c', 'o', 'm']"
      ]
     },
     "execution_count": 25,
     "metadata": {},
     "output_type": "execute_result"
    }
   ],
   "source": [
    "re.search('\\W','sushi_p@gamil.com')\n",
    "re.findall('\\W','sushi_p@gamil.com')\n",
    "re.findall('\\w','sushi_p@gamil.com')"
   ]
  },
  {
   "cell_type": "code",
   "execution_count": 2,
   "metadata": {},
   "outputs": [],
   "source": [
    "import re"
   ]
  },
  {
   "cell_type": "code",
   "execution_count": 5,
   "metadata": {},
   "outputs": [
    {
     "data": {
      "text/plain": [
       "<re.Match object; span=(0, 13), match='+917093643385'>"
      ]
     },
     "execution_count": 5,
     "metadata": {},
     "output_type": "execute_result"
    }
   ],
   "source": [
    "# mobile pattern\n",
    "re.search('^[0-9][0-9]{9}[0][6-9][0-9]{9}$|^[+][9][1][6-9][0-9]{9}$','+917093643385')"
   ]
  },
  {
   "cell_type": "code",
   "execution_count": 6,
   "metadata": {},
   "outputs": [],
   "source": [
    "# mailpattern\n",
    "re.search('^[A-Za-z][0-9]{1-15}[@][A-Za-z]{7}[.][a-z]{3}$','mahi_01@gmail.com')"
   ]
  },
  {
   "cell_type": "code",
   "execution_count": null,
   "metadata": {},
   "outputs": [],
   "source": []
  }
 ],
 "metadata": {
  "kernelspec": {
   "display_name": "Python 3",
   "language": "python",
   "name": "python3"
  },
  "language_info": {
   "codemirror_mode": {
    "name": "ipython",
    "version": 3
   },
   "file_extension": ".py",
   "mimetype": "text/x-python",
   "name": "python",
   "nbconvert_exporter": "python",
   "pygments_lexer": "ipython3",
   "version": "3.8.5"
  }
 },
 "nbformat": 4,
 "nbformat_minor": 4
}
